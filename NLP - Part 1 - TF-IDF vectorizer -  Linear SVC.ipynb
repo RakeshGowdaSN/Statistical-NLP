{
 "cells": [
  {
   "cell_type": "markdown",
   "metadata": {},
   "source": [
    "# NLP Classifier - TF-IDF Vectorizer"
   ]
  },
  {
   "cell_type": "code",
   "execution_count": 1,
   "metadata": {},
   "outputs": [
    {
     "name": "stdout",
     "output_type": "stream",
     "text": [
      "time: 1.34 s (started: 2021-07-25 15:55:45 +05:30)\n"
     ]
    }
   ],
   "source": [
    "# Import the necessary libraries\n",
    "\n",
    "import pandas as pd \n",
    "import numpy as np \n",
    "\n",
    "import warnings\n",
    "warnings.filterwarnings(\"ignore\")\n",
    "\n",
    "%reload_ext autotime\n",
    "\n",
    "#For visualization\n",
    "import seaborn as sns\n",
    "import matplotlib.pyplot as plt  \n",
    "sns.set(color_codes=True)        #adds color background (have to kill the kernel to see the changes of color)\n",
    "%matplotlib inline \n",
    "\n",
    "from sklearn.utils import shuffle\n",
    "from sklearn.model_selection import train_test_split, GridSearchCV, RandomizedSearchCV\n",
    "from sklearn.pipeline import Pipeline\n",
    "from sklearn.feature_extraction.text import CountVectorizer, TfidfTransformer, TfidfVectorizer\n",
    "from sklearn import metrics\n",
    "from sklearn.preprocessing import StandardScaler\n",
    "\n",
    "import re             #regular expressions\n",
    "import nltk\n",
    "from nltk.corpus import stopwords\n",
    "from nltk.stem import WordNetLemmatizer\n",
    "\n",
    "from sklearn.preprocessing import MultiLabelBinarizer\n",
    "from sklearn.multiclass import OneVsRestClassifier\n",
    "from sklearn.svm import LinearSVC\n",
    "from sklearn.linear_model import LogisticRegression\n",
    "from sklearn.linear_model import SGDClassifier\n",
    "from sklearn.tree import DecisionTreeClassifier\n",
    "from sklearn.ensemble import RandomForestClassifier\n",
    "from sklearn.ensemble import BaggingClassifier\n",
    "from sklearn.neighbors import KNeighborsClassifier\n",
    "from sklearn import tree\n",
    "\n",
    "from sklearn.metrics import accuracy_score\n",
    "from sklearn.metrics import f1_score\n",
    "from sklearn.metrics import average_precision_score\n",
    "from sklearn.metrics import recall_score\n",
    "\n",
    "from sklearn.discriminant_analysis import LinearDiscriminantAnalysis\n",
    "from sklearn.naive_bayes import MultinomialNB"
   ]
  },
  {
   "cell_type": "markdown",
   "metadata": {},
   "source": [
    "## Import and Analyze data"
   ]
  },
  {
   "cell_type": "code",
   "execution_count": 2,
   "metadata": {},
   "outputs": [
    {
     "data": {
      "text/html": [
       "<div>\n",
       "<style scoped>\n",
       "    .dataframe tbody tr th:only-of-type {\n",
       "        vertical-align: middle;\n",
       "    }\n",
       "\n",
       "    .dataframe tbody tr th {\n",
       "        vertical-align: top;\n",
       "    }\n",
       "\n",
       "    .dataframe thead th {\n",
       "        text-align: right;\n",
       "    }\n",
       "</style>\n",
       "<table border=\"1\" class=\"dataframe\">\n",
       "  <thead>\n",
       "    <tr style=\"text-align: right;\">\n",
       "      <th></th>\n",
       "      <th>id</th>\n",
       "      <th>gender</th>\n",
       "      <th>age</th>\n",
       "      <th>topic</th>\n",
       "      <th>sign</th>\n",
       "      <th>date</th>\n",
       "      <th>text</th>\n",
       "    </tr>\n",
       "  </thead>\n",
       "  <tbody>\n",
       "    <tr>\n",
       "      <th>0</th>\n",
       "      <td>2059027</td>\n",
       "      <td>male</td>\n",
       "      <td>15</td>\n",
       "      <td>Student</td>\n",
       "      <td>Leo</td>\n",
       "      <td>14,May,2004</td>\n",
       "      <td>Info has been found (+/- 100 pages,...</td>\n",
       "    </tr>\n",
       "    <tr>\n",
       "      <th>1</th>\n",
       "      <td>2059027</td>\n",
       "      <td>male</td>\n",
       "      <td>15</td>\n",
       "      <td>Student</td>\n",
       "      <td>Leo</td>\n",
       "      <td>13,May,2004</td>\n",
       "      <td>These are the team members:   Drewe...</td>\n",
       "    </tr>\n",
       "    <tr>\n",
       "      <th>2</th>\n",
       "      <td>2059027</td>\n",
       "      <td>male</td>\n",
       "      <td>15</td>\n",
       "      <td>Student</td>\n",
       "      <td>Leo</td>\n",
       "      <td>12,May,2004</td>\n",
       "      <td>In het kader van kernfusie op aarde...</td>\n",
       "    </tr>\n",
       "    <tr>\n",
       "      <th>3</th>\n",
       "      <td>2059027</td>\n",
       "      <td>male</td>\n",
       "      <td>15</td>\n",
       "      <td>Student</td>\n",
       "      <td>Leo</td>\n",
       "      <td>12,May,2004</td>\n",
       "      <td>testing!!!  testing!!!</td>\n",
       "    </tr>\n",
       "    <tr>\n",
       "      <th>4</th>\n",
       "      <td>3581210</td>\n",
       "      <td>male</td>\n",
       "      <td>33</td>\n",
       "      <td>InvestmentBanking</td>\n",
       "      <td>Aquarius</td>\n",
       "      <td>11,June,2004</td>\n",
       "      <td>Thanks to Yahoo!'s Toolbar I can ...</td>\n",
       "    </tr>\n",
       "  </tbody>\n",
       "</table>\n",
       "</div>"
      ],
      "text/plain": [
       "        id gender  age              topic      sign          date  \\\n",
       "0  2059027   male   15            Student       Leo   14,May,2004   \n",
       "1  2059027   male   15            Student       Leo   13,May,2004   \n",
       "2  2059027   male   15            Student       Leo   12,May,2004   \n",
       "3  2059027   male   15            Student       Leo   12,May,2004   \n",
       "4  3581210   male   33  InvestmentBanking  Aquarius  11,June,2004   \n",
       "\n",
       "                                                text  \n",
       "0             Info has been found (+/- 100 pages,...  \n",
       "1             These are the team members:   Drewe...  \n",
       "2             In het kader van kernfusie op aarde...  \n",
       "3                   testing!!!  testing!!!            \n",
       "4               Thanks to Yahoo!'s Toolbar I can ...  "
      ]
     },
     "execution_count": 2,
     "metadata": {},
     "output_type": "execute_result"
    },
    {
     "name": "stdout",
     "output_type": "stream",
     "text": [
      "time: 5.17 s (started: 2021-07-25 15:55:46 +05:30)\n"
     ]
    }
   ],
   "source": [
    "input1 = pd.read_csv('C:\\\\Users\\\\Rakesh Gowda S N\\\\Documents\\\\NLP\\\\Assignment\\\\blogtext.csv')\n",
    "input1.head()"
   ]
  },
  {
   "cell_type": "code",
   "execution_count": 3,
   "metadata": {},
   "outputs": [
    {
     "name": "stdout",
     "output_type": "stream",
     "text": [
      "Shape of blog text data file is: (681284, 7)\n",
      "time: 0 ns (started: 2021-07-25 15:55:51 +05:30)\n"
     ]
    }
   ],
   "source": [
    "print('Shape of blog text data file is: {}'.format(input1.shape))"
   ]
  },
  {
   "cell_type": "markdown",
   "metadata": {},
   "source": [
    "We can see that there are 681,284 rows in the dataset. First we will perform operations on smaller dataset by randomizing and then reduce/increase the volume of data based on the kernel capacity."
   ]
  },
  {
   "cell_type": "code",
   "execution_count": 4,
   "metadata": {},
   "outputs": [
    {
     "name": "stdout",
     "output_type": "stream",
     "text": [
      "time: 250 ms (started: 2021-07-25 15:55:51 +05:30)\n"
     ]
    }
   ],
   "source": [
    "input1 = shuffle(input1)\n",
    "# input2 = input1.iloc[0:100000] ## reduce or increase as per system config\n",
    "input2 = input1\n",
    "\n",
    "#Reset index after shuffle\n",
    "input2 = input2.reset_index()\n",
    "input2 = input2.drop(['index'],axis=1)"
   ]
  },
  {
   "cell_type": "code",
   "execution_count": 5,
   "metadata": {},
   "outputs": [
    {
     "data": {
      "text/plain": [
       "id         int64\n",
       "gender    object\n",
       "age        int64\n",
       "topic     object\n",
       "sign      object\n",
       "date      object\n",
       "text      object\n",
       "dtype: object"
      ]
     },
     "execution_count": 5,
     "metadata": {},
     "output_type": "execute_result"
    },
    {
     "name": "stdout",
     "output_type": "stream",
     "text": [
      "time: 0 ns (started: 2021-07-25 15:55:52 +05:30)\n"
     ]
    }
   ],
   "source": [
    "input2.dtypes"
   ]
  },
  {
   "cell_type": "markdown",
   "metadata": {},
   "source": [
    "We can observe that all the features are of object datatype except for id and age. Lets remove features which has less significance like 'id' and 'date'."
   ]
  },
  {
   "cell_type": "code",
   "execution_count": 6,
   "metadata": {},
   "outputs": [
    {
     "name": "stdout",
     "output_type": "stream",
     "text": [
      "time: 62 ms (started: 2021-07-25 15:55:52 +05:30)\n"
     ]
    }
   ],
   "source": [
    "input2.drop(['id','date'], axis=1, inplace=True)"
   ]
  },
  {
   "cell_type": "code",
   "execution_count": 7,
   "metadata": {},
   "outputs": [
    {
     "data": {
      "text/plain": [
       "gender    False\n",
       "age       False\n",
       "topic     False\n",
       "sign      False\n",
       "text      False\n",
       "dtype: bool"
      ]
     },
     "execution_count": 7,
     "metadata": {},
     "output_type": "execute_result"
    },
    {
     "name": "stdout",
     "output_type": "stream",
     "text": [
      "time: 125 ms (started: 2021-07-25 15:55:52 +05:30)\n"
     ]
    }
   ],
   "source": [
    "# Check null values\n",
    "input2.isna().any()"
   ]
  },
  {
   "cell_type": "markdown",
   "metadata": {},
   "source": [
    "There are no null values in any of the columns."
   ]
  },
  {
   "cell_type": "code",
   "execution_count": 8,
   "metadata": {},
   "outputs": [
    {
     "data": {
      "image/png": "[encoded data removed]",
      "text/plain": [
       "<Figure size 1080x576 with 1 Axes>"
      ]
     },
     "metadata": {
      "needs_background": "light"
     },
     "output_type": "display_data"
    },
    {
     "name": "stdout",
     "output_type": "stream",
     "text": [
      "time: 375 ms (started: 2021-07-25 15:55:52 +05:30)\n"
     ]
    }
   ],
   "source": [
    "ax = input2['topic'].value_counts().plot(kind='bar',\n",
    "                                    figsize=(15,8),\n",
    "                                    title=\"Topics\")\n",
    "ax.set_xlabel(\"Frequency of Topics\")\n",
    "ax.set_ylabel(\"Topics\")\n",
    "plt.show()"
   ]
  },
  {
   "cell_type": "markdown",
   "metadata": {},
   "source": [
    "As observed in the above plot, topics related to indUnk, student have majority of rows compared to other topics. Maritime and Environment have very less rows."
   ]
  },
  {
   "cell_type": "code",
   "execution_count": 9,
   "metadata": {},
   "outputs": [
    {
     "name": "stdout",
     "output_type": "stream",
     "text": [
      "time: 0 ns (started: 2021-07-25 15:55:52 +05:30)\n"
     ]
    }
   ],
   "source": [
    "# Lets typecast 'age' column data to obj type.\n",
    "input2['age'] = input2['age'].astype(object)"
   ]
  },
  {
   "cell_type": "markdown",
   "metadata": {},
   "source": [
    "## Data pre-processing"
   ]
  },
  {
   "cell_type": "markdown",
   "metadata": {},
   "source": [
    "### Data cleansing"
   ]
  },
  {
   "cell_type": "markdown",
   "metadata": {},
   "source": [
    "1) Let us remove unwanted chars from text column."
   ]
  },
  {
   "cell_type": "code",
   "execution_count": 10,
   "metadata": {},
   "outputs": [
    {
     "name": "stdout",
     "output_type": "stream",
     "text": [
      "time: 13.5 s (started: 2021-07-25 15:55:52 +05:30)\n"
     ]
    }
   ],
   "source": [
    "alphanum = \"[^\\w ]\"\n",
    "input2['data_cl'] = input2['text'].apply(lambda x : re.sub(alphanum,\"\",x))\n",
    "\n",
    "# input2['data_cl'] = input2['text'].str.replace('[^A-Za-z]',' ')"
   ]
  },
  {
   "cell_type": "markdown",
   "metadata": {},
   "source": [
    "2) Removing unwanted spaces"
   ]
  },
  {
   "cell_type": "code",
   "execution_count": 11,
   "metadata": {},
   "outputs": [
    {
     "name": "stdout",
     "output_type": "stream",
     "text": [
      "time: 656 ms (started: 2021-07-25 15:56:06 +05:30)\n"
     ]
    }
   ],
   "source": [
    "input2['data_cl'] = input2['data_cl'].apply(lambda x: x.strip())"
   ]
  },
  {
   "cell_type": "markdown",
   "metadata": {},
   "source": [
    "3) Remove stopwords"
   ]
  },
  {
   "cell_type": "code",
   "execution_count": 12,
   "metadata": {},
   "outputs": [
    {
     "name": "stdout",
     "output_type": "stream",
     "text": [
      "time: 18.1 s (started: 2021-07-25 15:56:07 +05:30)\n"
     ]
    }
   ],
   "source": [
    "stopwords=set(stopwords.words('english'))\n",
    "input2['data_cl'] = input2['data_cl'].apply(lambda x: ' '.join([words for words in x.split() if words not in stopwords]))"
   ]
  },
  {
   "cell_type": "markdown",
   "metadata": {},
   "source": [
    "4) Convert text to lowercase"
   ]
  },
  {
   "cell_type": "code",
   "execution_count": 13,
   "metadata": {},
   "outputs": [
    {
     "name": "stdout",
     "output_type": "stream",
     "text": [
      "time: 688 ms (started: 2021-07-25 15:56:25 +05:30)\n"
     ]
    }
   ],
   "source": [
    "input2['data_cl'] = input2['data_cl'].apply(lambda x: x.lower())"
   ]
  },
  {
   "cell_type": "markdown",
   "metadata": {},
   "source": [
    "Lets compare actual text and cleansed text:"
   ]
  },
  {
   "cell_type": "code",
   "execution_count": 14,
   "metadata": {},
   "outputs": [
    {
     "name": "stdout",
     "output_type": "stream",
     "text": [
      "Actual text  :        Sooooooo...  I got Dawn and all her hawtness to run on my Radeon 9500.  Whoo yeah.   Thanks, Alex, for leaving that half full can of Cherry Pepsi.  You left some stuff.  Here.  Just FYI.         \n",
      "\n",
      "Cleansed text: sooooooo i got dawn hawtness run radeon 9500 whoo yeah thanks alex leaving half full cherry pepsi you left stuff here just fyi\n",
      "time: 31 ms (started: 2021-07-25 15:56:25 +05:30)\n"
     ]
    }
   ],
   "source": [
    "print(\"Actual text  : {}\".format(input2['text'][1]))\n",
    "print('')\n",
    "print(\"Cleansed text: {}\".format(input2['data_cl'][1]))"
   ]
  },
  {
   "cell_type": "markdown",
   "metadata": {},
   "source": [
    "### Target/label merger and transformation"
   ]
  },
  {
   "cell_type": "markdown",
   "metadata": {},
   "source": [
    "As this will a a multi-label classification problem, we need to merge all the label columns together so that we have all the labels together for a particular sentence."
   ]
  },
  {
   "cell_type": "code",
   "execution_count": 15,
   "metadata": {},
   "outputs": [
    {
     "name": "stdout",
     "output_type": "stream",
     "text": [
      "time: 21.8 s (started: 2021-07-25 15:56:25 +05:30)\n"
     ]
    }
   ],
   "source": [
    "input2['labels']=input2.apply(lambda col: [col['gender'],str(col['age']),col['topic'],col['sign']], axis=1)"
   ]
  },
  {
   "cell_type": "code",
   "execution_count": 16,
   "metadata": {},
   "outputs": [
    {
     "data": {
      "text/html": [
       "<div>\n",
       "<style scoped>\n",
       "    .dataframe tbody tr th:only-of-type {\n",
       "        vertical-align: middle;\n",
       "    }\n",
       "\n",
       "    .dataframe tbody tr th {\n",
       "        vertical-align: top;\n",
       "    }\n",
       "\n",
       "    .dataframe thead th {\n",
       "        text-align: right;\n",
       "    }\n",
       "</style>\n",
       "<table border=\"1\" class=\"dataframe\">\n",
       "  <thead>\n",
       "    <tr style=\"text-align: right;\">\n",
       "      <th></th>\n",
       "      <th>gender</th>\n",
       "      <th>age</th>\n",
       "      <th>topic</th>\n",
       "      <th>sign</th>\n",
       "      <th>text</th>\n",
       "      <th>data_cl</th>\n",
       "      <th>labels</th>\n",
       "    </tr>\n",
       "  </thead>\n",
       "  <tbody>\n",
       "    <tr>\n",
       "      <th>0</th>\n",
       "      <td>female</td>\n",
       "      <td>27</td>\n",
       "      <td>BusinessServices</td>\n",
       "      <td>Pisces</td>\n",
       "      <td>In this room you inhaled  the essen...</td>\n",
       "      <td>in room inhaled essence one hundred years i sa...</td>\n",
       "      <td>[female, 27, BusinessServices, Pisces]</td>\n",
       "    </tr>\n",
       "    <tr>\n",
       "      <th>1</th>\n",
       "      <td>male</td>\n",
       "      <td>16</td>\n",
       "      <td>Student</td>\n",
       "      <td>Gemini</td>\n",
       "      <td>Sooooooo...  I got Dawn and all her haw...</td>\n",
       "      <td>sooooooo i got dawn hawtness run radeon 9500 w...</td>\n",
       "      <td>[male, 16, Student, Gemini]</td>\n",
       "    </tr>\n",
       "    <tr>\n",
       "      <th>2</th>\n",
       "      <td>male</td>\n",
       "      <td>17</td>\n",
       "      <td>Student</td>\n",
       "      <td>Virgo</td>\n",
       "      <td>May 16th, 2004 history was made at the ...</td>\n",
       "      <td>may 16th 2004 history made vevoda compound we ...</td>\n",
       "      <td>[male, 17, Student, Virgo]</td>\n",
       "    </tr>\n",
       "    <tr>\n",
       "      <th>3</th>\n",
       "      <td>male</td>\n",
       "      <td>25</td>\n",
       "      <td>Tourism</td>\n",
       "      <td>Gemini</td>\n",
       "      <td>According to the MLB's official site th...</td>\n",
       "      <td>according mlbs official site top 10 reasons be...</td>\n",
       "      <td>[male, 25, Tourism, Gemini]</td>\n",
       "    </tr>\n",
       "    <tr>\n",
       "      <th>4</th>\n",
       "      <td>male</td>\n",
       "      <td>14</td>\n",
       "      <td>Maritime</td>\n",
       "      <td>Pisces</td>\n",
       "      <td>*A reminder. The  Sarcastic Kitten  sys...</td>\n",
       "      <td>a reminder the sarcastic kitten system film re...</td>\n",
       "      <td>[male, 14, Maritime, Pisces]</td>\n",
       "    </tr>\n",
       "  </tbody>\n",
       "</table>\n",
       "</div>"
      ],
      "text/plain": [
       "   gender age             topic    sign  \\\n",
       "0  female  27  BusinessServices  Pisces   \n",
       "1    male  16           Student  Gemini   \n",
       "2    male  17           Student   Virgo   \n",
       "3    male  25           Tourism  Gemini   \n",
       "4    male  14          Maritime  Pisces   \n",
       "\n",
       "                                                text  \\\n",
       "0             In this room you inhaled  the essen...   \n",
       "1         Sooooooo...  I got Dawn and all her haw...   \n",
       "2         May 16th, 2004 history was made at the ...   \n",
       "3         According to the MLB's official site th...   \n",
       "4         *A reminder. The  Sarcastic Kitten  sys...   \n",
       "\n",
       "                                             data_cl  \\\n",
       "0  in room inhaled essence one hundred years i sa...   \n",
       "1  sooooooo i got dawn hawtness run radeon 9500 w...   \n",
       "2  may 16th 2004 history made vevoda compound we ...   \n",
       "3  according mlbs official site top 10 reasons be...   \n",
       "4  a reminder the sarcastic kitten system film re...   \n",
       "\n",
       "                                   labels  \n",
       "0  [female, 27, BusinessServices, Pisces]  \n",
       "1             [male, 16, Student, Gemini]  \n",
       "2              [male, 17, Student, Virgo]  \n",
       "3             [male, 25, Tourism, Gemini]  \n",
       "4            [male, 14, Maritime, Pisces]  "
      ]
     },
     "execution_count": 16,
     "metadata": {},
     "output_type": "execute_result"
    },
    {
     "name": "stdout",
     "output_type": "stream",
     "text": [
      "time: 16 ms (started: 2021-07-25 15:56:47 +05:30)\n"
     ]
    }
   ],
   "source": [
    "input2.head()"
   ]
  },
  {
   "cell_type": "code",
   "execution_count": 17,
   "metadata": {},
   "outputs": [
    {
     "name": "stdout",
     "output_type": "stream",
     "text": [
      "time: 203 ms (started: 2021-07-25 15:56:47 +05:30)\n"
     ]
    }
   ],
   "source": [
    "# We will drop text,gender,age,topic & sign as they are already merged\n",
    "input2.drop(columns=['text','gender','age','topic','sign'], axis=1, inplace=True)"
   ]
  },
  {
   "cell_type": "code",
   "execution_count": 18,
   "metadata": {},
   "outputs": [
    {
     "data": {
      "text/html": [
       "<div>\n",
       "<style scoped>\n",
       "    .dataframe tbody tr th:only-of-type {\n",
       "        vertical-align: middle;\n",
       "    }\n",
       "\n",
       "    .dataframe tbody tr th {\n",
       "        vertical-align: top;\n",
       "    }\n",
       "\n",
       "    .dataframe thead th {\n",
       "        text-align: right;\n",
       "    }\n",
       "</style>\n",
       "<table border=\"1\" class=\"dataframe\">\n",
       "  <thead>\n",
       "    <tr style=\"text-align: right;\">\n",
       "      <th></th>\n",
       "      <th>data_cl</th>\n",
       "      <th>labels</th>\n",
       "    </tr>\n",
       "  </thead>\n",
       "  <tbody>\n",
       "    <tr>\n",
       "      <th>0</th>\n",
       "      <td>in room inhaled essence one hundred years i sa...</td>\n",
       "      <td>[female, 27, BusinessServices, Pisces]</td>\n",
       "    </tr>\n",
       "    <tr>\n",
       "      <th>1</th>\n",
       "      <td>sooooooo i got dawn hawtness run radeon 9500 w...</td>\n",
       "      <td>[male, 16, Student, Gemini]</td>\n",
       "    </tr>\n",
       "    <tr>\n",
       "      <th>2</th>\n",
       "      <td>may 16th 2004 history made vevoda compound we ...</td>\n",
       "      <td>[male, 17, Student, Virgo]</td>\n",
       "    </tr>\n",
       "    <tr>\n",
       "      <th>3</th>\n",
       "      <td>according mlbs official site top 10 reasons be...</td>\n",
       "      <td>[male, 25, Tourism, Gemini]</td>\n",
       "    </tr>\n",
       "    <tr>\n",
       "      <th>4</th>\n",
       "      <td>a reminder the sarcastic kitten system film re...</td>\n",
       "      <td>[male, 14, Maritime, Pisces]</td>\n",
       "    </tr>\n",
       "  </tbody>\n",
       "</table>\n",
       "</div>"
      ],
      "text/plain": [
       "                                             data_cl  \\\n",
       "0  in room inhaled essence one hundred years i sa...   \n",
       "1  sooooooo i got dawn hawtness run radeon 9500 w...   \n",
       "2  may 16th 2004 history made vevoda compound we ...   \n",
       "3  according mlbs official site top 10 reasons be...   \n",
       "4  a reminder the sarcastic kitten system film re...   \n",
       "\n",
       "                                   labels  \n",
       "0  [female, 27, BusinessServices, Pisces]  \n",
       "1             [male, 16, Student, Gemini]  \n",
       "2              [male, 17, Student, Virgo]  \n",
       "3             [male, 25, Tourism, Gemini]  \n",
       "4            [male, 14, Maritime, Pisces]  "
      ]
     },
     "execution_count": 18,
     "metadata": {},
     "output_type": "execute_result"
    },
    {
     "name": "stdout",
     "output_type": "stream",
     "text": [
      "time: 0 ns (started: 2021-07-25 15:56:47 +05:30)\n"
     ]
    }
   ],
   "source": [
    "input2.head()"
   ]
  },
  {
   "cell_type": "markdown",
   "metadata": {},
   "source": [
    "The function below will visualize the words and their frequency in a set of documents. Let’s use it to find out the most frequent words in the cleansed text column:"
   ]
  },
  {
   "cell_type": "code",
   "execution_count": 19,
   "metadata": {},
   "outputs": [
    {
     "data": {
      "image/png": "[encoded data removed]",
      "text/plain": [
       "<Figure size 864x1080 with 1 Axes>"
      ]
     },
     "metadata": {
      "needs_background": "light"
     },
     "output_type": "display_data"
    },
    {
     "name": "stdout",
     "output_type": "stream",
     "text": [
      "time: 1min 24s (started: 2021-07-25 15:56:48 +05:30)\n"
     ]
    }
   ],
   "source": [
    "def freq_words(x, terms = 30): \n",
    "  all_words = ' '.join([text for text in x]) \n",
    "  all_words = all_words.split() \n",
    "  fdist = nltk.FreqDist(all_words) \n",
    "  words_df = pd.DataFrame({'word':list(fdist.keys()), 'count':list(fdist.values())}) \n",
    "  \n",
    "  # selecting top 20 most frequent words \n",
    "  d = words_df.nlargest(columns=\"count\", n = terms) \n",
    "  \n",
    "  # visualize words and frequencies\n",
    "  plt.figure(figsize=(12,15)) \n",
    "  ax = sns.barplot(data=d, x= \"count\", y = \"word\") \n",
    "  ax.set(ylabel = 'Word') \n",
    "  plt.show()\n",
    "  \n",
    "# print 100 most frequent words \n",
    "freq_words(input2['data_cl'], 100)"
   ]
  },
  {
   "cell_type": "code",
   "execution_count": 20,
   "metadata": {},
   "outputs": [
    {
     "name": "stdout",
     "output_type": "stream",
     "text": [
      "time: 14.8 s (started: 2021-07-25 15:58:12 +05:30)\n"
     ]
    }
   ],
   "source": [
    "# function to remove stopwords\n",
    "def remove_stopwords(text):\n",
    "    no_stopword_text = [w for w in text.split() if not w in stopwords]\n",
    "    return ' '.join(no_stopword_text)\n",
    "\n",
    "input2['data_cl'] = input2['data_cl'].apply(lambda x: remove_stopwords(x))"
   ]
  },
  {
   "cell_type": "code",
   "execution_count": 21,
   "metadata": {},
   "outputs": [
    {
     "data": {
      "image/png": "[encoded data removed]",
      "text/plain": [
       "<Figure size 864x1080 with 1 Axes>"
      ]
     },
     "metadata": {
      "needs_background": "light"
     },
     "output_type": "display_data"
    },
    {
     "name": "stdout",
     "output_type": "stream",
     "text": [
      "time: 55.6 s (started: 2021-07-25 15:58:27 +05:30)\n"
     ]
    }
   ],
   "source": [
    "freq_words(input2['data_cl'], 100)"
   ]
  },
  {
   "cell_type": "markdown",
   "metadata": {},
   "source": [
    "We will create a dictionary to get the count of every label i.e. the key will be label name and value will be the total count of the label."
   ]
  },
  {
   "cell_type": "code",
   "execution_count": 22,
   "metadata": {},
   "outputs": [
    {
     "name": "stdout",
     "output_type": "stream",
     "text": [
      "time: 1.05 s (started: 2021-07-25 15:59:23 +05:30)\n"
     ]
    }
   ],
   "source": [
    "label_counts=dict()\n",
    "\n",
    "for labels in input2.labels.values:\n",
    "    for label in labels:\n",
    "        if label in label_counts:\n",
    "            label_counts[label]+=1\n",
    "        else:\n",
    "            label_counts[label]=1"
   ]
  },
  {
   "cell_type": "code",
   "execution_count": 23,
   "metadata": {},
   "outputs": [
    {
     "data": {
      "text/plain": [
       "{'female': 336091,\n",
       " '27': 46124,\n",
       " 'BusinessServices': 4500,\n",
       " 'Pisces': 54053,\n",
       " 'male': 345193,\n",
       " '16': 72708,\n",
       " 'Student': 153903,\n",
       " 'Gemini': 51985,\n",
       " '17': 80859,\n",
       " 'Virgo': 60399,\n",
       " '25': 67051,\n",
       " 'Tourism': 1942,\n",
       " '14': 27400,\n",
       " 'Maritime': 280,\n",
       " 'Aquarius': 49687,\n",
       " 'indUnk': 251015,\n",
       " '24': 80071,\n",
       " 'Capricorn': 49201,\n",
       " 'Libra': 62363,\n",
       " '23': 72889,\n",
       " '38': 7545,\n",
       " 'Leo': 53811,\n",
       " 'Cancer': 65048,\n",
       " '45': 4482,\n",
       " 'Technology': 42055,\n",
       " 'Taurus': 62561,\n",
       " 'Communications-Media': 20140,\n",
       " 'RealEstate': 2870,\n",
       " 'Aries': 64979,\n",
       " 'Sagittarius': 50036,\n",
       " '43': 4230,\n",
       " 'Education': 29633,\n",
       " '15': 41767,\n",
       " 'Scorpio': 57161,\n",
       " '37': 9317,\n",
       " '26': 55312,\n",
       " 'Law': 9040,\n",
       " '13': 13133,\n",
       " 'Internet': 16006,\n",
       " 'Banking': 4049,\n",
       " 'Accounting': 3832,\n",
       " '48': 3572,\n",
       " '40': 5016,\n",
       " 'Biotech': 2234,\n",
       " 'Non-Profit': 14700,\n",
       " '34': 21347,\n",
       " '39': 5556,\n",
       " 'Engineering': 11653,\n",
       " 'Agriculture': 1235,\n",
       " '35': 17462,\n",
       " 'Religion': 5235,\n",
       " 'HumanResources': 3010,\n",
       " 'Government': 6907,\n",
       " '41': 3738,\n",
       " '42': 2908,\n",
       " 'Arts': 32449,\n",
       " 'Automotive': 1244,\n",
       " '33': 17584,\n",
       " '36': 14229,\n",
       " 'Manufacturing': 2272,\n",
       " 'LawEnforcement-Security': 1878,\n",
       " 'Museums-Libraries': 3096,\n",
       " 'Construction': 1093,\n",
       " 'Chemicals': 3928,\n",
       " 'Publishing': 7753,\n",
       " 'Marketing': 4769,\n",
       " 'Advertising': 4676,\n",
       " 'Science': 7269,\n",
       " '44': 2044,\n",
       " '46': 2733,\n",
       " 'Telecommunications': 3891,\n",
       " 'Consulting': 5862,\n",
       " '47': 2207,\n",
       " 'Transportation': 2326,\n",
       " 'Environment': 592,\n",
       " 'Military': 3128,\n",
       " 'Sports-Recreation': 3038,\n",
       " 'Architecture': 1638,\n",
       " 'Fashion': 4851,\n",
       " 'InvestmentBanking': 1292}"
      ]
     },
     "execution_count": 23,
     "metadata": {},
     "output_type": "execute_result"
    },
    {
     "name": "stdout",
     "output_type": "stream",
     "text": [
      "time: 16 ms (started: 2021-07-25 15:59:24 +05:30)\n"
     ]
    }
   ],
   "source": [
    "label_counts"
   ]
  },
  {
   "cell_type": "code",
   "execution_count": 24,
   "metadata": {},
   "outputs": [
    {
     "name": "stdout",
     "output_type": "stream",
     "text": [
      "time: 985 ms (started: 2021-07-25 15:59:24 +05:30)\n"
     ]
    }
   ],
   "source": [
    "multilabel_binarizer = MultiLabelBinarizer()\n",
    "multilabel_binarizer.fit(input2['labels'])\n",
    "\n",
    "# transform target variable\n",
    "y = multilabel_binarizer.transform(input2['labels'])"
   ]
  },
  {
   "cell_type": "markdown",
   "metadata": {},
   "source": [
    "### Train and test split and Vectorization"
   ]
  },
  {
   "cell_type": "markdown",
   "metadata": {},
   "source": [
    "A vectorizer helps us convert text data to computer understandable numeric data.\n",
    "\n",
    "CountVectorizer: Counts the frequency of all words in our corpus, sorts them and grabs the most recurring features (using max_features hyperparameter). But these results are mostly biased and our model might loose out on some of the important less frequent features. These are all boolean values.\n",
    "\n",
    "TFIDFVectorizer: TFIDF is a statistical measure said to have fixed the issues with CountVectorizer in some way. It consists of 2 parts, TF (Term Frequency) multiplied with IDF (Inverse Document Frequency). The main intuition being some words that appear frequently in 1 document and less frequently in other documents could be considered as providing extra insight for that 1 document and could help our model learn from this additional piece of information. In short, common words are penalized. These are relative frequencies identified as floating point numbers."
   ]
  },
  {
   "cell_type": "code",
   "execution_count": 25,
   "metadata": {},
   "outputs": [
    {
     "name": "stdout",
     "output_type": "stream",
     "text": [
      "time: 0 ns (started: 2021-07-25 15:59:25 +05:30)\n"
     ]
    }
   ],
   "source": [
    "tfidf_vectorizer = TfidfVectorizer() #max_df=0.8, max_features=10000)"
   ]
  },
  {
   "cell_type": "code",
   "execution_count": 26,
   "metadata": {},
   "outputs": [
    {
     "name": "stdout",
     "output_type": "stream",
     "text": [
      "time: 2.47 s (started: 2021-07-25 15:59:25 +05:30)\n"
     ]
    }
   ],
   "source": [
    "# split dataset into training and validation set\n",
    "xtrain, xval, ytrain, yval = train_test_split(input2['data_cl'], y, test_size=0.3, random_state=7)"
   ]
  },
  {
   "cell_type": "code",
   "execution_count": 27,
   "metadata": {},
   "outputs": [
    {
     "name": "stdout",
     "output_type": "stream",
     "text": [
      "time: 53.6 s (started: 2021-07-25 15:59:27 +05:30)\n"
     ]
    }
   ],
   "source": [
    "# create TF-IDF features\n",
    "xtrain_tfidf = tfidf_vectorizer.fit_transform(xtrain)\n",
    "xval_tfidf = tfidf_vectorizer.transform(xval)"
   ]
  },
  {
   "cell_type": "markdown",
   "metadata": {},
   "source": [
    "## Train, tune and test the best text classifier"
   ]
  },
  {
   "cell_type": "markdown",
   "metadata": {},
   "source": [
    "Here we will use the One-vs-Rest approach, which is implemented in OneVsRestClassifier class. In this approach k classifiers (= number of tags) are trained. As a basic classifier, we can use LogisticRegression . It is one of the simplest methods, but often it performs good enough in text classification tasks.\n",
    "\n",
    "Traditional two-class and multi-class problems can both be cast into multi-label ones by restricting each instance to have only one label. On the other hand, the generality of multi-label problems inevitably makes it more difficult to learn. An intuitive approach to solving multi-label problem is to decompose it into multiple independent binary classification problems (one per category).\n",
    "\n",
    "In an “one-to-rest” strategy, one could build multiple independent classifiers and, for an unseen instance, choose the class for which the confidence is maximized.\n",
    "\n",
    "The main assumption here is that the labels are mutually exclusive. You do not consider any underlying correlation between the classes in this method."
   ]
  },
  {
   "cell_type": "code",
   "execution_count": 28,
   "metadata": {},
   "outputs": [
    {
     "name": "stdout",
     "output_type": "stream",
     "text": [
      "time: 0 ns (started: 2021-07-25 16:00:21 +05:30)\n"
     ]
    }
   ],
   "source": [
    "# Let's check hyperparameters for few classification models\n",
    "\n",
    "# lrcl =  LogisticRegression()\n",
    "# nbcl =  MultinomialNB()\n",
    "# dtcl = DecisionTreeClassifier()\n",
    "# knncl =  KNeighborsClassifier()\n",
    "\n",
    "svcl = LinearSVC(penalty = 'l2', multi_class = 'ovr', class_weight = 'balanced', C=0.1)                       \n",
    "\n",
    "# rfcl =  RandomForestClassifier()\n",
    "# bgcl =  BaggingClassifier()\n",
    "\n",
    "# One vs Rest Classifier\n",
    "\n",
    "# ovr_lrcl = OneVsRestClassifier(lrcl)\n",
    "# ovr_nbcl = OneVsRestClassifier(nbcl)\n",
    "# ovr_dtcl = OneVsRestClassifier(dtcl)\n",
    "# ovr_knncl = OneVsRestClassifier(knncl)\n",
    "\n",
    "ovr_svcl = OneVsRestClassifier(svcl)\n",
    "\n",
    "# ovr_rfcl = OneVsRestClassifier(rfcl)\n",
    "# ovr_bgcl = OneVsRestClassifier(bgcl)"
   ]
  },
  {
   "cell_type": "markdown",
   "metadata": {},
   "source": [
    "***********************************************************************************************\n",
    "##### Below commented code lines were used to test different algorithms on small data. Linear SVC proved to be efficient compared to other algorithms.\n",
    "***********************************************************************************************"
   ]
  },
  {
   "cell_type": "code",
   "execution_count": 29,
   "metadata": {},
   "outputs": [
    {
     "name": "stdout",
     "output_type": "stream",
     "text": [
      "time: 0 ns (started: 2021-07-25 16:00:21 +05:30)\n"
     ]
    }
   ],
   "source": [
    "# Pipeline all the models\n",
    "\n",
    "# pipe_lr = Pipeline([('clf', OneVsRestClassifier(LogisticRegression(solver='lbfgs')))])\n",
    "# pipe_nb = Pipeline([('clf', OneVsRestClassifier(MultinomialNB()))])\n",
    "# pipe_dt = Pipeline([('clf', OneVsRestClassifier(DecisionTreeClassifier()))])\n",
    "# pipe_knn = Pipeline([('clf', OneVsRestClassifier(KNeighborsClassifier(n_neighbors = 2, algorithm = 'auto')))])\n",
    "# pipe_svc = Pipeline([('clf', OneVsRestClassifier(LinearSVC()))])\n",
    "# pipe_rf = Pipeline([('clf', OneVsRestClassifier(RandomForestClassifier()))])\n",
    "# pipe_bc = Pipeline([('clf', OneVsRestClassifier(BaggingClassifier()))])\n",
    "\n",
    "# pipe_lr.fit(xtrain_tfidf, ytrain) \n",
    "# pipe_nb.fit(xtrain_tfidf, ytrain) \n",
    "# pipe_dt.fit(xtrain_tfidf, ytrain) \n",
    "# pipe_knn.fit(xtrain_tfidf, ytrain) \n",
    "# pipe_svc.fit(xtrain_tfidf, ytrain) \n",
    "# pipe_rf.fit(xtrain_tfidf, ytrain) \n",
    "# pipe_bc.fit(xtrain_tfidf, ytrain) \n",
    "\n",
    "# Training dataset Scores \n",
    "# lr_train = pipe_lr.score(xtrain_tfidf, ytrain)\n",
    "# nb_train = pipe_nb.score(xtrain_tfidf, ytrain)\n",
    "# dt_train = pipe_dt.score(xtrain_tfidf, ytrain)\n",
    "# knn_train = pipe_knn.score(xtrain_tfidf, ytrain)\n",
    "# svc_train = pipe_svc.score(xtrain_tfidf, ytrain)\n",
    "# rf_train = pipe_rf.score(xtrain_tfidf, ytrain)\n",
    "# bc_train = pipe_bc.score(xtrain_tfidf, ytrain)\n",
    "\n",
    "# # Testing dataset Scores\n",
    "# lr_test = pipe_lr.score(xval_tfidf, yval)\n",
    "# nb_test = pipe_nb.score(xval_tfidf, yval)\n",
    "# dt_test = pipe_dt.score(xval_tfidf, yval)\n",
    "# knn_test = pipe_knn.score(xval_tfidf, yval)\n",
    "# svc_test = pipe_svc.score(xval_tfidf, yval)\n",
    "# rf_test = pipe_rf.score(xval_tfidf, yval)\n",
    "# bc_test = pipe_bc.score(xval_tfidf, yval)"
   ]
  },
  {
   "cell_type": "code",
   "execution_count": 30,
   "metadata": {},
   "outputs": [
    {
     "name": "stdout",
     "output_type": "stream",
     "text": [
      "time: 0 ns (started: 2021-07-25 16:00:21 +05:30)\n"
     ]
    }
   ],
   "source": [
    "# y_pred_lr = pipe_lr.predict(xval_tfidf)\n",
    "# y_pred_nb = pipe_nb.predict(xval_tfidf)\n",
    "# y_pred_dt = pipe_dt.predict(xval_tfidf)\n",
    "# y_pred_knn = pipe_knn.predict(xval_tfidf)\n",
    "# y_pred_svc = pipe_svc.predict(xval_tfidf)\n",
    "# y_pred_rf = pipe_rf.predict(xval_tfidf)\n",
    "# y_pred_bc = pipe_bc.predict(xval_tfidf)"
   ]
  },
  {
   "cell_type": "code",
   "execution_count": 31,
   "metadata": {},
   "outputs": [
    {
     "name": "stdout",
     "output_type": "stream",
     "text": [
      "time: 0 ns (started: 2021-07-25 16:00:21 +05:30)\n"
     ]
    }
   ],
   "source": [
    "# print(metrics.classification_report(yval, y_pred_lr))"
   ]
  },
  {
   "cell_type": "code",
   "execution_count": 32,
   "metadata": {},
   "outputs": [
    {
     "name": "stdout",
     "output_type": "stream",
     "text": [
      "time: 0 ns (started: 2021-07-25 16:00:21 +05:30)\n"
     ]
    }
   ],
   "source": [
    "# print('Model: ', pipe_lr)\n",
    "# print('Accuracy score: ', accuracy_score(yval, y_pred_lr))\n",
    "# print('F1 score: ', f1_score(yval, y_pred_lr, average='micro'))\n",
    "# print('Average precision score: ', average_precision_score(yval, y_pred_lr, average='micro'))\n",
    "# print('Average recall score: ', recall_score(yval, y_pred_lr, average='micro'))\n",
    "# print('')\n",
    "\n",
    "# print('Model: ', pipe_nb)\n",
    "# print('Accuracy score: ', accuracy_score(yval, y_pred_nb))\n",
    "# print('F1 score: ', f1_score(yval, y_pred_nb, average='micro'))\n",
    "# print('Average precision score: ', average_precision_score(yval, y_pred_nb, average='micro'))\n",
    "# print('Average recall score: ', recall_score(yval, y_pred_nb, average='micro'))\n",
    "# print('')\n",
    "\n",
    "# print('Model: ', pipe_dt)\n",
    "# print('Accuracy score: ', accuracy_score(yval, y_pred_dt))\n",
    "# print('F1 score: ', f1_score(yval, y_pred_dt, average='micro'))\n",
    "# print('Average precision score: ', average_precision_score(yval, y_pred_dt, average='micro'))\n",
    "# print('Average recall score: ', recall_score(yval, y_pred_dt, average='micro'))\n",
    "# print('')\n",
    "\n",
    "# print('Model: ', pipe_knn)\n",
    "# print('Accuracy score: ', accuracy_score(yval, y_pred_knn))\n",
    "# print('F1 score: ', f1_score(yval, y_pred_knn, average='micro'))\n",
    "# print('Average precision score: ', average_precision_score(yval, y_pred_knn, average='micro'))\n",
    "# print('Average recall score: ', recall_score(yval, y_pred_knn, average='micro'))\n",
    "# print('')\n",
    "\n",
    "# print('Model: ', pipe_svc)\n",
    "# print('Accuracy score: ', accuracy_score(yval, y_pred_svc))\n",
    "# print('F1 score: ', f1_score(yval, y_pred_svc, average='micro'))\n",
    "# print('Average precision score: ', average_precision_score(yval, y_pred_svc, average='micro'))\n",
    "# print('Average recall score: ', recall_score(yval, y_pred_svc, average='micro'))\n",
    "# print('')\n",
    "\n",
    "# print('Model: ', pipe_rf)\n",
    "# print('Accuracy score: ', accuracy_score(yval, y_pred_rf))\n",
    "# print('F1 score: ', f1_score(yval, y_pred_rf, average='micro'))\n",
    "# print('Average precision score: ', average_precision_score(yval, y_pred_rf, average='micro'))\n",
    "# print('Average recall score: ', recall_score(yval, y_pred_rf, average='micro'))\n",
    "# print('')\n",
    "\n",
    "# print('Model: ', pipe_bc)\n",
    "# print('Accuracy score: ', accuracy_score(yval, y_pred_bc))\n",
    "# print('F1 score: ', f1_score(yval, y_pred_bc, average='micro'))\n",
    "# print('Average precision score: ', average_precision_score(yval, y_pred_bc, average='micro'))\n",
    "# print('Average recall score: ', recall_score(yval, y_pred_bc, average='micro'))\n",
    "# print('')"
   ]
  },
  {
   "cell_type": "code",
   "execution_count": 33,
   "metadata": {},
   "outputs": [
    {
     "name": "stdout",
     "output_type": "stream",
     "text": [
      "time: 0 ns (started: 2021-07-25 16:00:21 +05:30)\n"
     ]
    }
   ],
   "source": [
    "# f1_micro_lr = f1_score(yval, y_pred_lr, average='micro')\n",
    "# f1_macro_lr = f1_score(yval, y_pred_lr, average='macro')\n",
    "# f1_weighted_lr = f1_score(yval, y_pred_lr, average='weighted')\n",
    "# f1_sample_lr = f1_score(yval, y_pred_lr, average='samples')\n",
    "\n",
    "# f1_micro_nb = f1_score(yval, y_pred_nb, average='micro')\n",
    "# f1_macro_nb = f1_score(yval, y_pred_nb, average='macro')\n",
    "# f1_weighted_nb = f1_score(yval, y_pred_nb, average='weighted')\n",
    "# f1_sample_nb = f1_score(yval, y_pred_nb, average='samples')\n",
    "\n",
    "# f1_micro_dt = f1_score(yval, y_pred_dt, average='micro')\n",
    "# f1_macro_dt = f1_score(yval, y_pred_dt, average='macro')\n",
    "# f1_weighted_dt = f1_score(yval, y_pred_dt, average='weighted')\n",
    "# f1_sample_dt = f1_score(yval, y_pred_dt, average='samples')\n",
    "\n",
    "# f1_micro_knn = f1_score(yval, y_pred_knn, average='micro')\n",
    "# f1_macro_knn = f1_score(yval, y_pred_knn, average='macro')\n",
    "# f1_weighted_knn = f1_score(yval, y_pred_knn, average='weighted')\n",
    "# f1_sample_knn = f1_score(yval, y_pred_knn, average='samples')\n",
    "\n",
    "# f1_micro_svc = f1_score(yval, y_pred_svc, average='micro')\n",
    "# f1_macro_svc = f1_score(yval, y_pred_svc, average='macro')\n",
    "# f1_weighted_svc = f1_score(yval, y_pred_svc, average='weighted')\n",
    "# f1_sample_svc = f1_score(yval, y_pred_svc, average='samples')\n",
    "\n",
    "# f1_micro_rf = f1_score(yval, y_pred_rf, average='micro')\n",
    "# f1_macro_rf = f1_score(yval, y_pred_rf, average='macro')\n",
    "# f1_weighted_rf = f1_score(yval, y_pred_rf, average='weighted')\n",
    "# f1_sample_rf = f1_score(yval, y_pred_rf, average='samples')\n",
    "\n",
    "# f1_micro_bc = f1_score(yval, y_pred_bc, average='micro')\n",
    "# f1_macro_bc = f1_score(yval, y_pred_bc, average='macro')\n",
    "# f1_weighted_bc = f1_score(yval, y_pred_bc, average='weighted')\n",
    "# f1_sample_bc = f1_score(yval, y_pred_bc, average='samples')"
   ]
  },
  {
   "cell_type": "code",
   "execution_count": 34,
   "metadata": {},
   "outputs": [
    {
     "name": "stdout",
     "output_type": "stream",
     "text": [
      "time: 0 ns (started: 2021-07-25 16:00:21 +05:30)\n"
     ]
    }
   ],
   "source": [
    "# data = {'F1 score (micro)': [f1_micro_lr, f1_micro_nb, f1_micro_dt, f1_micro_knn, f1_micro_svc, f1_micro_rf, f1_micro_bc],\n",
    "#         'F1 score (macro)': [f1_macro_lr, f1_macro_nb, f1_macro_dt, f1_macro_knn, f1_macro_svc, f1_macro_rf, f1_macro_bc],\n",
    "#         'F1 score (weighted)': [f1_weighted_lr, f1_weighted_nb, f1_weighted_dt, f1_weighted_knn, f1_weighted_svc, f1_weighted_rf, f1_weighted_bc],\n",
    "#         'F1 score (samples)': [f1_sample_lr, f1_sample_nb, f1_sample_dt, f1_sample_knn, f1_sample_svc, f1_sample_rf, f1_sample_bc],\n",
    "#        } \n",
    "\n",
    "# pd.DataFrame(data,\n",
    "#              index = ['Logistic Regression', 'Naive Bayes', 'Decision Tree','KNN',\n",
    "#                       'Linear SVC', 'Random Forest', 'Bagging Classifier' ])"
   ]
  },
  {
   "cell_type": "code",
   "execution_count": 35,
   "metadata": {},
   "outputs": [
    {
     "name": "stdout",
     "output_type": "stream",
     "text": [
      "time: 0 ns (started: 2021-07-25 16:00:21 +05:30)\n"
     ]
    }
   ],
   "source": [
    "# for clf, label in zip([lrcl, nbcl, dtcl, knncl, svcl, rfcl, bgcl], \n",
    "#     ['Logistic Regression', 'Naive Bayes Classifier', 'Decision Tree Classifier', 'K-Nearest Neighbor Classifier', \n",
    "#      'Linear SVC', 'Random Forest Classifier', 'Bagging Classfier']):\n",
    "#     print(\"Model name: \", label)\n",
    "#     print(\"Hyperparameters:\", clf.get_params() )\n",
    "#     print('')"
   ]
  },
  {
   "cell_type": "code",
   "execution_count": 36,
   "metadata": {},
   "outputs": [
    {
     "name": "stdout",
     "output_type": "stream",
     "text": [
      "time: 0 ns (started: 2021-07-25 16:00:21 +05:30)\n"
     ]
    }
   ],
   "source": [
    "# params={\n",
    "#     'penalty': ('l1', 'l2'),\n",
    "#     'loss': ('squared_hinge'),\n",
    "#     'C': (0.01, 0.1, 1, 10),\n",
    "#     'multi_class': ('ovr')\n",
    "#     'estimator__fit_intercept': (True),\n",
    "#     'estimator__class_weight': ('dict', 'balanced')\n",
    "# }\n",
    "# random_tune=RandomizedSearchCV(svcl, param_distributions=params, scoring='f1_micro', verbose=10)"
   ]
  },
  {
   "cell_type": "code",
   "execution_count": 37,
   "metadata": {},
   "outputs": [
    {
     "name": "stdout",
     "output_type": "stream",
     "text": [
      "time: 0 ns (started: 2021-07-25 16:00:21 +05:30)\n"
     ]
    }
   ],
   "source": [
    "# fit model on train data\n",
    "# clf.fit(xtrain_tfidf, ytrain)\n",
    "# random_tune.fit(xtrain_tfidf,ytrain)"
   ]
  },
  {
   "cell_type": "code",
   "execution_count": 38,
   "metadata": {},
   "outputs": [
    {
     "name": "stdout",
     "output_type": "stream",
     "text": [
      "time: 0 ns (started: 2021-07-25 16:00:21 +05:30)\n"
     ]
    }
   ],
   "source": [
    "# print(\"Best parameters set found on development set:\")\n",
    "# print('')\n",
    "# print(random_tune.best_params_)"
   ]
  },
  {
   "cell_type": "markdown",
   "metadata": {},
   "source": [
    "*********************************************************************************************************************\n",
    "##### Commented code lines end here\n",
    "*********************************************************************************************************************"
   ]
  },
  {
   "cell_type": "code",
   "execution_count": 39,
   "metadata": {},
   "outputs": [
    {
     "data": {
      "text/plain": [
       "Pipeline(steps=[('clf',\n",
       "                 OneVsRestClassifier(estimator=LinearSVC(C=0.1,\n",
       "                                                         class_weight='balanced')))])"
      ]
     },
     "execution_count": 39,
     "metadata": {},
     "output_type": "execute_result"
    },
    {
     "name": "stdout",
     "output_type": "stream",
     "text": [
      "time: 45min 40s (started: 2021-07-25 16:00:21 +05:30)\n"
     ]
    }
   ],
   "source": [
    "# Fit the model\n",
    "pipe_svc = Pipeline([('clf', ovr_svcl)])\n",
    "pipe_svc.fit(xtrain_tfidf, ytrain) "
   ]
  },
  {
   "cell_type": "code",
   "execution_count": 40,
   "metadata": {},
   "outputs": [
    {
     "name": "stdout",
     "output_type": "stream",
     "text": [
      "time: 5.36 s (started: 2021-07-25 16:46:01 +05:30)\n"
     ]
    }
   ],
   "source": [
    "# make predictions for validation set\n",
    "y_pred = pipe_svc.predict(xval_tfidf)"
   ]
  },
  {
   "cell_type": "code",
   "execution_count": 41,
   "metadata": {},
   "outputs": [
    {
     "data": {
      "text/plain": [
       "array([0, 0, 0, 0, 0, 1, 1, 0, 0, 0, 0, 0, 0, 0, 0, 0, 0, 0, 0, 0, 0, 0,\n",
       "       0, 0, 0, 0, 0, 0, 0, 1, 0, 0, 1, 0, 0, 0, 0, 0, 1, 0, 0, 0, 0, 0,\n",
       "       0, 0, 0, 0, 0, 0, 0, 0, 0, 0, 0, 0, 0, 0, 0, 0, 0, 0, 1, 0, 0, 0,\n",
       "       0, 0, 0, 0, 1, 0, 0, 0, 0, 0, 0, 1, 1, 0])"
      ]
     },
     "execution_count": 41,
     "metadata": {},
     "output_type": "execute_result"
    },
    {
     "name": "stdout",
     "output_type": "stream",
     "text": [
      "time: 0 ns (started: 2021-07-25 16:46:07 +05:30)\n"
     ]
    }
   ],
   "source": [
    "y_pred[3]"
   ]
  },
  {
   "cell_type": "code",
   "execution_count": 42,
   "metadata": {},
   "outputs": [
    {
     "data": {
      "text/plain": [
       "('23',\n",
       " '24',\n",
       " 'Aquarius',\n",
       " 'Arts',\n",
       " 'Capricorn',\n",
       " 'Pisces',\n",
       " 'Student',\n",
       " 'female',\n",
       " 'indUnk')"
      ]
     },
     "execution_count": 42,
     "metadata": {},
     "output_type": "execute_result"
    },
    {
     "name": "stdout",
     "output_type": "stream",
     "text": [
      "time: 656 ms (started: 2021-07-25 16:46:07 +05:30)\n"
     ]
    }
   ],
   "source": [
    "multilabel_binarizer.inverse_transform(y_pred)[3]"
   ]
  },
  {
   "cell_type": "markdown",
   "metadata": {},
   "source": [
    "## Classification report"
   ]
  },
  {
   "cell_type": "code",
   "execution_count": 43,
   "metadata": {},
   "outputs": [
    {
     "data": {
      "text/plain": [
       "0.350480098574941"
      ]
     },
     "execution_count": 43,
     "metadata": {},
     "output_type": "execute_result"
    },
    {
     "name": "stdout",
     "output_type": "stream",
     "text": [
      "time: 1.48 s (started: 2021-07-25 16:46:07 +05:30)\n"
     ]
    }
   ],
   "source": [
    "# evaluate performance\n",
    "f1_score(yval, y_pred, average=\"micro\")"
   ]
  },
  {
   "cell_type": "code",
   "execution_count": 44,
   "metadata": {},
   "outputs": [
    {
     "name": "stdout",
     "output_type": "stream",
     "text": [
      "time: 0 ns (started: 2021-07-25 16:46:09 +05:30)\n"
     ]
    }
   ],
   "source": [
    "def print_evaluation_scores(y_test, y_pred):\n",
    "    print('Accuracy score: ', accuracy_score(yval, y_pred))\n",
    "    print('F1 score: ', f1_score(yval, y_pred, average='micro'))\n",
    "    print('Average precision score: ', average_precision_score(yval, y_pred, average='micro'))\n",
    "    print('Average recall score: ', recall_score(yval, y_pred, average='micro'))"
   ]
  },
  {
   "cell_type": "code",
   "execution_count": 45,
   "metadata": {},
   "outputs": [
    {
     "name": "stdout",
     "output_type": "stream",
     "text": [
      "Accuracy score:  0.018313387414010743\n",
      "F1 score:  0.350480098574941\n",
      "Average precision score:  0.16538787324811985\n",
      "Average recall score:  0.5662349671699627\n",
      "time: 5.34 s (started: 2021-07-25 16:46:09 +05:30)\n"
     ]
    }
   ],
   "source": [
    "print_evaluation_scores(yval, y_pred)"
   ]
  },
  {
   "cell_type": "markdown",
   "metadata": {},
   "source": [
    "The classification report shows a representation of the main classification metrics on a per-class basis. This gives a deeper intuition of the classifier behavior over global accuracy which can mask functional weaknesses in one class of a multiclass problem.\n",
    "\n",
    "Precision can be seen as a measure of a classifier’s exactness. For each class, it is defined as the ratio of true positives to the sum of true and false positives.\n",
    "\n",
    "Recall is a measure of the classifier’s completeness; the ability of a classifier to correctly find all positive instances. For each class, it is defined as the ratio of true positives to the sum of true positives and false negatives. \n",
    "\n",
    "The F1 score is a weighted harmonic mean of precision and recall such that the best score is 1.0 and the worst is 0.0. Generally speaking, F1 scores are lower than accuracy measures as they embed precision and recall into their computation. As a rule of thumb, the weighted average of F1 should be used to compare classifier models, not global accuracy."
   ]
  },
  {
   "cell_type": "markdown",
   "metadata": {},
   "source": [
    "Experimenting with lots of featurization and including topic modelling improved my score. Random search helped in hyperparameter tuning and a decent micro f1 score of 0.4302 was achieved on test data."
   ]
  },
  {
   "cell_type": "markdown",
   "metadata": {},
   "source": [
    "## True vs Predicted labels"
   ]
  },
  {
   "cell_type": "code",
   "execution_count": 46,
   "metadata": {},
   "outputs": [
    {
     "name": "stdout",
     "output_type": "stream",
     "text": [
      "time: 0 ns (started: 2021-07-25 16:46:14 +05:30)\n"
     ]
    }
   ],
   "source": [
    "def clean_text(text):\n",
    "    # remove backslash-apostrophe \n",
    "    text = re.sub(\"\\'\", \"\", text) \n",
    "    # remove everything except alphabets \n",
    "    text = re.sub(\"[^a-zA-Z]\",\" \",text) \n",
    "    # remove whitespaces \n",
    "    text = ' '.join(text.split()) \n",
    "    # convert text to lowercase \n",
    "    text = text.lower() \n",
    "    \n",
    "    return text"
   ]
  },
  {
   "cell_type": "code",
   "execution_count": 47,
   "metadata": {},
   "outputs": [
    {
     "name": "stdout",
     "output_type": "stream",
     "text": [
      "time: 0 ns (started: 2021-07-25 16:46:14 +05:30)\n"
     ]
    }
   ],
   "source": [
    "def infer_tags(q):\n",
    "    q = clean_text(q)\n",
    "    q = remove_stopwords(q)\n",
    "    q_vec = tfidf_vectorizer.transform([q])\n",
    "    q_pred = pipe_svc.predict(q_vec)\n",
    "    return multilabel_binarizer.inverse_transform(q_pred)"
   ]
  },
  {
   "cell_type": "code",
   "execution_count": 48,
   "metadata": {},
   "outputs": [
    {
     "name": "stdout",
     "output_type": "stream",
     "text": [
      "Actual labels   :  ['male', '35', 'Technology', 'Aries']\n",
      "Predicted labels:  [('23', '24', '25', 'Architecture', 'Aries', 'Arts', 'Communications-Media', 'Leo', 'female', 'indUnk')]\n",
      "\n",
      "Actual labels   :  ['female', '23', 'indUnk', 'Aries']\n",
      "Predicted labels:  [('23', '25', 'Aries', 'Capricorn', 'Libra', 'female', 'indUnk')]\n",
      "\n",
      "Actual labels   :  ['male', '24', 'indUnk', 'Gemini']\n",
      "Predicted labels:  [('16', '26', '27', '37', 'Aquarius', 'Sagittarius', 'female', 'indUnk')]\n",
      "\n",
      "Actual labels   :  ['male', '34', 'indUnk', 'Aries']\n",
      "Predicted labels:  [('25', '33', '34', 'Aries', 'Gemini', 'Internet', 'Scorpio', 'Technology', 'indUnk', 'male')]\n",
      "\n",
      "Actual labels   :  ['female', '34', 'indUnk', 'Cancer']\n",
      "Predicted labels:  [('16', '41', 'Aquarius', 'Architecture', 'Cancer', 'Chemicals', 'Leo', 'Libra', 'indUnk', 'male')]\n",
      "\n",
      "Actual labels   :  ['female', '24', 'Education', 'Capricorn']\n",
      "Predicted labels:  [('33', 'Aquarius', 'Gemini', 'Student', 'Transportation', 'Virgo', 'female', 'indUnk')]\n",
      "\n",
      "Actual labels   :  ['female', '17', 'Student', 'Virgo']\n",
      "Predicted labels:  [('17', '25', 'Leo', 'Student', 'Virgo', 'female')]\n",
      "\n",
      "Actual labels   :  ['male', '27', 'Manufacturing', 'Cancer']\n",
      "Predicted labels:  [('13', '24', 'Aries', 'Capricorn', 'Government', 'Leo', 'Libra', 'Taurus', 'Technology', 'female', 'indUnk')]\n",
      "\n",
      "Actual labels   :  ['female', '23', 'Communications-Media', 'Pisces']\n",
      "Predicted labels:  [('23', '33', '35', 'Aquarius', 'Aries', 'Communications-Media', 'Libra', 'Scorpio', 'indUnk', 'male')]\n",
      "\n",
      "Actual labels   :  ['female', '15', 'Student', 'Taurus']\n",
      "Predicted labels:  [('13', '14', '15', '16', '17', 'Aries', 'Capricorn', 'Libra', 'Scorpio', 'Student', 'male')]\n",
      "\n",
      "Actual labels   :  ['male', '23', 'Education', 'Gemini']\n",
      "Predicted labels:  [('23', '24', 'Education', 'Pisces', 'Taurus', 'female', 'indUnk')]\n",
      "\n",
      "Actual labels   :  ['male', '13', 'indUnk', 'Taurus']\n",
      "Predicted labels:  [('male',)]\n",
      "\n",
      "Actual labels   :  ['female', '33', 'Non-Profit', 'Cancer']\n",
      "Predicted labels:  [('23', '33', '35', 'Aries', 'Arts', 'Libra', 'Scorpio', 'female', 'indUnk')]\n",
      "\n",
      "Actual labels   :  ['female', '24', 'Museums-Libraries', 'Leo']\n",
      "Predicted labels:  [('24', '33', '43', 'Architecture', 'Leo', 'Museums-Libraries', 'Virgo', 'female', 'indUnk')]\n",
      "\n",
      "Actual labels   :  ['male', '13', 'indUnk', 'Taurus']\n",
      "Predicted labels:  [('14', '15', '17', '23', 'Sagittarius', 'Scorpio', 'Student', 'Technology', 'Virgo', 'male')]\n",
      "\n",
      "Actual labels   :  ['male', '25', 'Education', 'Gemini']\n",
      "Predicted labels:  [('16', '23', '24', '26', '39', 'Aquarius', 'Arts', 'Gemini', 'Publishing', 'Sagittarius', 'Scorpio', 'indUnk', 'male')]\n",
      "\n",
      "Actual labels   :  ['male', '16', 'Sports-Recreation', 'Taurus']\n",
      "Predicted labels:  [('16', 'Sports-Recreation', 'Taurus', 'male')]\n",
      "\n",
      "Actual labels   :  ['female', '26', 'indUnk', 'Capricorn']\n",
      "Predicted labels:  [('16', '17', 'Law', 'Leo', 'Sagittarius', 'Taurus', 'Technology', 'indUnk', 'male')]\n",
      "\n",
      "Actual labels   :  ['male', '26', 'Technology', 'Leo']\n",
      "Predicted labels:  [('26', 'Leo', 'Technology', 'male')]\n",
      "\n",
      "Actual labels   :  ['male', '36', 'indUnk', 'Aquarius']\n",
      "Predicted labels:  [('27', '33', '35', '36', 'Aries', 'Cancer', 'Education', 'Scorpio', 'female', 'indUnk')]\n",
      "\n",
      "Actual labels   :  ['male', '16', 'Student', 'Virgo']\n",
      "Predicted labels:  [('14', '15', '16', 'Capricorn', 'Student', 'Virgo', 'male')]\n",
      "\n",
      "Actual labels   :  ['female', '26', 'indUnk', 'Scorpio']\n",
      "Predicted labels:  [('25', '26', 'Leo', 'Sagittarius', 'Taurus', 'female', 'indUnk')]\n",
      "\n",
      "Actual labels   :  ['female', '26', 'indUnk', 'Aries']\n",
      "Predicted labels:  [('24', 'Aries', 'Arts', 'Leo', 'Scorpio', 'female', 'indUnk')]\n",
      "\n",
      "Actual labels   :  ['male', '35', 'Government', 'Aquarius']\n",
      "Predicted labels:  [('25', '26', '34', '42', 'Aquarius', 'Chemicals', 'Engineering', 'Pisces', 'indUnk', 'male')]\n",
      "\n",
      "Actual labels   :  ['male', '26', 'Arts', 'Pisces']\n",
      "Predicted labels:  [('35', 'Internet', 'Libra', 'Manufacturing', 'male')]\n",
      "\n",
      "time: 703 ms (started: 2021-07-25 16:46:14 +05:30)\n"
     ]
    }
   ],
   "source": [
    "for i in range(25): \n",
    "  k = xval.sample(1).index[0] \n",
    "  print(\"Actual labels   : \", input2['labels'][k])\n",
    "  print(\"Predicted labels: \", infer_tags(xval[k]))\n",
    "  print('')"
   ]
  },
  {
   "cell_type": "markdown",
   "metadata": {},
   "source": [
    "Most of the predictions are pretty close to the actual labels."
   ]
  }
 ],
 "metadata": {
  "kernelspec": {
   "display_name": "Python 3",
   "language": "python",
   "name": "python3"
  },
  "language_info": {
   "codemirror_mode": {
    "name": "ipython",
    "version": 3
   },
   "file_extension": ".py",
   "mimetype": "text/x-python",
   "name": "python",
   "nbconvert_exporter": "python",
   "pygments_lexer": "ipython3",
   "version": "3.8.3"
  }
 },
 "nbformat": 4,
 "nbformat_minor": 4
}
